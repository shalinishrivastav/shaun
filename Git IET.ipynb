{
 "cells": [
  {
   "cell_type": "code",
   "execution_count": 15,
   "id": "0a54618b",
   "metadata": {},
   "outputs": [],
   "source": [
    "import numpy as np"
   ]
  },
  {
   "cell_type": "code",
   "execution_count": 10,
   "id": "9f897ff0",
   "metadata": {},
   "outputs": [
    {
     "name": "stdout",
     "output_type": "stream",
     "text": [
      "Name: Atharv\n",
      "Age: 19\n",
      "Height: 1.7\n",
      "Is a student: True\n"
     ]
    }
   ],
   "source": [
    "name = \"Atharv\"\n",
    "age = 19\n",
    "ht = 1.7\n",
    "is_student = True\n",
    "\n",
    "print(\"Name:\",name)\n",
    "print(\"Age:\",age)\n",
    "print(\"Height:\",ht)\n",
    "print(\"Is a student:\",is_student)"
   ]
  },
  {
   "cell_type": "code",
   "execution_count": 12,
   "id": "5ba72b5e",
   "metadata": {},
   "outputs": [
    {
     "name": "stdout",
     "output_type": "stream",
     "text": [
      "Age as string: 19 Type: <class 'str'>\n",
      "Height as int: 1 Type: <class 'int'>\n"
     ]
    }
   ],
   "source": [
    "age_str = str(age)\n",
    "ht_int = int(ht)\n",
    "print(\"Age as string:\",age_str,\"Type:\",type(age_str))\n",
    "print(\"Height as int:\",ht_int,\"Type:\",type(ht_int))"
   ]
  },
  {
   "cell_type": "code",
   "execution_count": 14,
   "id": "3cc55a05",
   "metadata": {},
   "outputs": [
    {
     "name": "stdout",
     "output_type": "stream",
     "text": [
      "[1, 'apple', 3.14]\n"
     ]
    }
   ],
   "source": [
    "lst = [1, \"apple\", 3.14]\n",
    "print(lst)"
   ]
  },
  {
   "cell_type": "code",
   "execution_count": 16,
   "id": "429ed87a",
   "metadata": {},
   "outputs": [
    {
     "name": "stdout",
     "output_type": "stream",
     "text": [
      "[1 2 3 4]\n"
     ]
    }
   ],
   "source": [
    "arr = np.array([1,2,3,4])\n",
    "print(arr)"
   ]
  },
  {
   "cell_type": "code",
   "execution_count": 18,
   "id": "8ce85ad6",
   "metadata": {},
   "outputs": [
    {
     "name": "stdout",
     "output_type": "stream",
     "text": [
      "(1, 'apple', 3.14)\n"
     ]
    }
   ],
   "source": [
    "tpl = (1,\"apple\",3.14)\n",
    "print(tpl)"
   ]
  },
  {
   "cell_type": "code",
   "execution_count": 19,
   "id": "30845969",
   "metadata": {},
   "outputs": [
    {
     "name": "stdout",
     "output_type": "stream",
     "text": [
      "{1, 2, 3, 4, 5}\n"
     ]
    }
   ],
   "source": [
    "s = {1,2,3,4,5}\n",
    "print(s)"
   ]
  },
  {
   "cell_type": "code",
   "execution_count": 24,
   "id": "a917f544",
   "metadata": {},
   "outputs": [
    {
     "name": "stdout",
     "output_type": "stream",
     "text": [
      "{'Name': 'Alice', 'age': 25}\n"
     ]
    }
   ],
   "source": [
    "d = {\"Name\":\"Alice\",\"age\":25}\n",
    "print(d)"
   ]
  },
  {
   "cell_type": "code",
   "execution_count": 29,
   "id": "92b78186",
   "metadata": {},
   "outputs": [
    {
     "name": "stdout",
     "output_type": "stream",
     "text": [
      "[10, 'banana', 4.5]\n",
      "(20, 'apple', 7.8)\n",
      "{1, 2, 3}\n",
      "{'Name': 'John', 'Age': 25}\n",
      "[ 5 10 15 20]\n"
     ]
    }
   ],
   "source": [
    "my_list = [10,\"banana\",4.5]\n",
    "my_tuple = (20,\"apple\",7.8)\n",
    "my_set = {1,2,2,3}\n",
    "my_dict = {\"Name\":\"John\",\"Age\":25}\n",
    "my_array = np.array([5,10,15,20])\n",
    "print(my_list)\n",
    "print(my_tuple)\n",
    "print(my_set)\n",
    "print(my_dict)\n",
    "print(my_array)"
   ]
  },
  {
   "cell_type": "code",
   "execution_count": 32,
   "id": "cc53d929",
   "metadata": {},
   "outputs": [
    {
     "name": "stdout",
     "output_type": "stream",
     "text": [
      "x is greater than 5\n"
     ]
    }
   ],
   "source": [
    "x = 10\n",
    "if x>5:\n",
    "    print(\"x is greater than 5\")"
   ]
  },
  {
   "cell_type": "code",
   "execution_count": 33,
   "id": "521ef482",
   "metadata": {},
   "outputs": [
    {
     "name": "stdout",
     "output_type": "stream",
     "text": [
      "x is less than 5\n"
     ]
    }
   ],
   "source": [
    "x = 3\n",
    "if x>5:\n",
    "    print(\"x is greater than 5\")\n",
    "else:\n",
    "    print(\"x is less than 5\")"
   ]
  },
  {
   "cell_type": "code",
   "execution_count": 34,
   "id": "c6bc5b63",
   "metadata": {},
   "outputs": [
    {
     "name": "stdout",
     "output_type": "stream",
     "text": [
      "x is less than 15\n"
     ]
    }
   ],
   "source": [
    "x = 7\n",
    "if x>20:\n",
    "    print(\"x is greater than 20\")\n",
    "elif x>15:\n",
    "    print(\"x is greater than 15 but less than or equal to 20\")\n",
    "else:\n",
    "    print(\"x is less than 15\")"
   ]
  },
  {
   "cell_type": "code",
   "execution_count": null,
   "id": "be8e6f26",
   "metadata": {},
   "outputs": [],
   "source": []
  }
 ],
 "metadata": {
  "kernelspec": {
   "display_name": "Python 3 (ipykernel)",
   "language": "python",
   "name": "python3"
  },
  "language_info": {
   "codemirror_mode": {
    "name": "ipython",
    "version": 3
   },
   "file_extension": ".py",
   "mimetype": "text/x-python",
   "name": "python",
   "nbconvert_exporter": "python",
   "pygments_lexer": "ipython3",
   "version": "3.9.13"
  }
 },
 "nbformat": 4,
 "nbformat_minor": 5
}
